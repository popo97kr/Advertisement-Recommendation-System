{
 "cells": [
  {
   "cell_type": "markdown",
   "metadata": {},
   "source": [
    "# LSTM Model Demo"
   ]
  },
  {
   "cell_type": "code",
   "execution_count": 3,
   "metadata": {},
   "outputs": [],
   "source": [
    "import pandas as pd"
   ]
  },
  {
   "cell_type": "markdown",
   "metadata": {},
   "source": [
    "## Load 5 CSV files"
   ]
  },
  {
   "cell_type": "code",
   "execution_count": 4,
   "metadata": {},
   "outputs": [],
   "source": [
    "# load 5 csv files for LSTM\n",
    "\n",
    "kuchive = pd.read_csv('kuchive.csv')\n",
    "contest = pd.read_csv('contest_tagfixed.csv')\n",
    "activity = pd.read_csv('activity_tagfixed.csv')\n",
    "jobs = pd.read_csv('jobs.csv')\n",
    "clubs = pd.read_csv('clubs_tagfixed.csv')"
   ]
  },
  {
   "cell_type": "code",
   "execution_count": 5,
   "metadata": {},
   "outputs": [],
   "source": [
    "# leave only the description and tags columns\n",
    "# we will use {description} as x, and {tags} as y target values\n",
    "\n",
    "kuchive = kuchive.iloc[:, [6, 7]]\n",
    "contest = contest.iloc[:, [7, 8]]\n",
    "activity = activity.iloc[:, [7, 8]]\n",
    "jobs = jobs.iloc[:, [3, 6]]\n",
    "clubs = clubs.iloc[:, [3, 4]]"
   ]
  },
  {
   "cell_type": "code",
   "execution_count": 6,
   "metadata": {},
   "outputs": [
    {
     "data": {
      "text/html": [
       "<div>\n",
       "<style scoped>\n",
       "    .dataframe tbody tr th:only-of-type {\n",
       "        vertical-align: middle;\n",
       "    }\n",
       "\n",
       "    .dataframe tbody tr th {\n",
       "        vertical-align: top;\n",
       "    }\n",
       "\n",
       "    .dataframe thead th {\n",
       "        text-align: right;\n",
       "    }\n",
       "</style>\n",
       "<table border=\"1\" class=\"dataframe\">\n",
       "  <thead>\n",
       "    <tr style=\"text-align: right;\">\n",
       "      <th></th>\n",
       "      <th>description</th>\n",
       "      <th>tags</th>\n",
       "    </tr>\n",
       "  </thead>\n",
       "  <tbody>\n",
       "    <tr>\n",
       "      <th>0</th>\n",
       "      <td>장애학생지원센터 서포터즈 모해 10기</td>\n",
       "      <td>['봉사']</td>\n",
       "    </tr>\n",
       "    <tr>\n",
       "      <th>1</th>\n",
       "      <td>장애학생지원센터에서는 다음과 같이 2020학년도 1학기 장애학생 도우미를 모집합니다...</td>\n",
       "      <td>['봉사']</td>\n",
       "    </tr>\n",
       "    <tr>\n",
       "      <th>2</th>\n",
       "      <td>고대인들을 다학제적융합인재로 성장시키기위한 인문학 교육 특강- 강연 제목 : 당신이...</td>\n",
       "      <td>['예술','사회']</td>\n",
       "    </tr>\n",
       "    <tr>\n",
       "      <th>3</th>\n",
       "      <td>고대인들을 다학제적융합인재로 성장시키기위한 인문학 교육 특강- 강연 제목 : 미국의...</td>\n",
       "      <td>['예술','IT']</td>\n",
       "    </tr>\n",
       "    <tr>\n",
       "      <th>4</th>\n",
       "      <td>고대인들을 다학제적융합인재로 성장시키기위한 인문학 교육 특강- 강연 제목 : 영화를...</td>\n",
       "      <td>['예술']</td>\n",
       "    </tr>\n",
       "  </tbody>\n",
       "</table>\n",
       "</div>"
      ],
      "text/plain": [
       "                                         description         tags\n",
       "0                               장애학생지원센터 서포터즈 모해 10기       ['봉사']\n",
       "1  장애학생지원센터에서는 다음과 같이 2020학년도 1학기 장애학생 도우미를 모집합니다...       ['봉사']\n",
       "2  고대인들을 다학제적융합인재로 성장시키기위한 인문학 교육 특강- 강연 제목 : 당신이...  ['예술','사회']\n",
       "3  고대인들을 다학제적융합인재로 성장시키기위한 인문학 교육 특강- 강연 제목 : 미국의...  ['예술','IT']\n",
       "4  고대인들을 다학제적융합인재로 성장시키기위한 인문학 교육 특강- 강연 제목 : 영화를...       ['예술']"
      ]
     },
     "execution_count": 6,
     "metadata": {},
     "output_type": "execute_result"
    }
   ],
   "source": [
    "kuchive.head()\n",
    "# kuchive.info()"
   ]
  },
  {
   "cell_type": "code",
   "execution_count": 7,
   "metadata": {},
   "outputs": [
    {
     "data": {
      "text/html": [
       "<div>\n",
       "<style scoped>\n",
       "    .dataframe tbody tr th:only-of-type {\n",
       "        vertical-align: middle;\n",
       "    }\n",
       "\n",
       "    .dataframe tbody tr th {\n",
       "        vertical-align: top;\n",
       "    }\n",
       "\n",
       "    .dataframe thead th {\n",
       "        text-align: right;\n",
       "    }\n",
       "</style>\n",
       "<table border=\"1\" class=\"dataframe\">\n",
       "  <thead>\n",
       "    <tr style=\"text-align: right;\">\n",
       "      <th></th>\n",
       "      <th>description</th>\n",
       "      <th>tags</th>\n",
       "    </tr>\n",
       "  </thead>\n",
       "  <tbody>\n",
       "    <tr>\n",
       "      <th>0</th>\n",
       "      <td>2020년 한국야쿠르트 마케팅 공모전   ■ 공모주제 · 언택트 시대에 걸맞은 차별...</td>\n",
       "      <td>['공모전', '경영']</td>\n",
       "    </tr>\n",
       "    <tr>\n",
       "      <th>1</th>\n",
       "      <td>제1회 도전.한국 대국민 아이디어 공모전▷  지원자격 : 관심 있는 국민‧기업‧단체...</td>\n",
       "      <td>['공모전', '봉사']</td>\n",
       "    </tr>\n",
       "    <tr>\n",
       "      <th>2</th>\n",
       "      <td>2020년 K-water 대국민 환경 빅데이터 공모전▷ 담당자 전화번호 :042-6...</td>\n",
       "      <td>['공모전', 'IT', '과학']</td>\n",
       "    </tr>\n",
       "    <tr>\n",
       "      <th>3</th>\n",
       "      <td>[기획재정부] 국민참여예산 대학생 공모전 (~8/31)■ 신청기간2020년 6월 2...</td>\n",
       "      <td>['공모전', '사회']</td>\n",
       "    </tr>\n",
       "    <tr>\n",
       "      <th>4</th>\n",
       "      <td>2020 제26회 문학동네 소설상 공모▷ 응모마감 : 2020년 8월 30일 (마감...</td>\n",
       "      <td>['공모전']</td>\n",
       "    </tr>\n",
       "  </tbody>\n",
       "</table>\n",
       "</div>"
      ],
      "text/plain": [
       "                                         description                 tags\n",
       "0  2020년 한국야쿠르트 마케팅 공모전   ■ 공모주제 · 언택트 시대에 걸맞은 차별...        ['공모전', '경영']\n",
       "1  제1회 도전.한국 대국민 아이디어 공모전▷  지원자격 : 관심 있는 국민‧기업‧단체...        ['공모전', '봉사']\n",
       "2  2020년 K-water 대국민 환경 빅데이터 공모전▷ 담당자 전화번호 :042-6...  ['공모전', 'IT', '과학']\n",
       "3  [기획재정부] 국민참여예산 대학생 공모전 (~8/31)■ 신청기간2020년 6월 2...        ['공모전', '사회']\n",
       "4  2020 제26회 문학동네 소설상 공모▷ 응모마감 : 2020년 8월 30일 (마감...              ['공모전']"
      ]
     },
     "execution_count": 7,
     "metadata": {},
     "output_type": "execute_result"
    }
   ],
   "source": [
    "contest.head()\n",
    "# contest.info()"
   ]
  },
  {
   "cell_type": "code",
   "execution_count": 8,
   "metadata": {},
   "outputs": [
    {
     "data": {
      "text/html": [
       "<div>\n",
       "<style scoped>\n",
       "    .dataframe tbody tr th:only-of-type {\n",
       "        vertical-align: middle;\n",
       "    }\n",
       "\n",
       "    .dataframe tbody tr th {\n",
       "        vertical-align: top;\n",
       "    }\n",
       "\n",
       "    .dataframe thead th {\n",
       "        text-align: right;\n",
       "    }\n",
       "</style>\n",
       "<table border=\"1\" class=\"dataframe\">\n",
       "  <thead>\n",
       "    <tr style=\"text-align: right;\">\n",
       "      <th></th>\n",
       "      <th>description</th>\n",
       "      <th>tags</th>\n",
       "    </tr>\n",
       "  </thead>\n",
       "  <tbody>\n",
       "    <tr>\n",
       "      <th>0</th>\n",
       "      <td>[코로나 관련 안내]- 아름다운가게는 안전한 자원활동 현장 지침을 적용 중이며 수시...</td>\n",
       "      <td>['대외활동', '경영', '봉사']</td>\n",
       "    </tr>\n",
       "    <tr>\n",
       "      <th>1</th>\n",
       "      <td>★ 모집내용지원자격 : 대학교 재학 또는 휴학생 (블로그 및 SNS 활용자) (4학...</td>\n",
       "      <td>['대외활동', '기타']</td>\n",
       "    </tr>\n",
       "    <tr>\n",
       "      <th>2</th>\n",
       "      <td>***전세게적 코로나 팬더믹으로 인해 2020년 모든 일정이 2021년 03월이후로...</td>\n",
       "      <td>['대외활동', '사회', '봉사']</td>\n",
       "    </tr>\n",
       "    <tr>\n",
       "      <th>3</th>\n",
       "      <td>고용노동부주관 기관평가 5년 인증 최우수 기관!국내 최고의 SW 전문인력 양성기관멀...</td>\n",
       "      <td>['대외활동', 'IT']</td>\n",
       "    </tr>\n",
       "    <tr>\n",
       "      <th>4</th>\n",
       "      <td>2020 중앙자살예방센터 자살유발정보 모니터링단 지켜줌인(人) 모집▷ 모집 기간  ...</td>\n",
       "      <td>['대외활동', '봉사']</td>\n",
       "    </tr>\n",
       "  </tbody>\n",
       "</table>\n",
       "</div>"
      ],
      "text/plain": [
       "                                         description                  tags\n",
       "0  [코로나 관련 안내]- 아름다운가게는 안전한 자원활동 현장 지침을 적용 중이며 수시...  ['대외활동', '경영', '봉사']\n",
       "1  ★ 모집내용지원자격 : 대학교 재학 또는 휴학생 (블로그 및 SNS 활용자) (4학...        ['대외활동', '기타']\n",
       "2  ***전세게적 코로나 팬더믹으로 인해 2020년 모든 일정이 2021년 03월이후로...  ['대외활동', '사회', '봉사']\n",
       "3  고용노동부주관 기관평가 5년 인증 최우수 기관!국내 최고의 SW 전문인력 양성기관멀...        ['대외활동', 'IT']\n",
       "4  2020 중앙자살예방센터 자살유발정보 모니터링단 지켜줌인(人) 모집▷ 모집 기간  ...        ['대외활동', '봉사']"
      ]
     },
     "execution_count": 8,
     "metadata": {},
     "output_type": "execute_result"
    }
   ],
   "source": [
    "activity.head()\n",
    "# activity.info()"
   ]
  },
  {
   "cell_type": "code",
   "execution_count": 9,
   "metadata": {},
   "outputs": [
    {
     "data": {
      "text/html": [
       "<div>\n",
       "<style scoped>\n",
       "    .dataframe tbody tr th:only-of-type {\n",
       "        vertical-align: middle;\n",
       "    }\n",
       "\n",
       "    .dataframe tbody tr th {\n",
       "        vertical-align: top;\n",
       "    }\n",
       "\n",
       "    .dataframe thead th {\n",
       "        text-align: right;\n",
       "    }\n",
       "</style>\n",
       "<table border=\"1\" class=\"dataframe\">\n",
       "  <thead>\n",
       "    <tr style=\"text-align: right;\">\n",
       "      <th></th>\n",
       "      <th>description</th>\n",
       "      <th>tags</th>\n",
       "    </tr>\n",
       "  </thead>\n",
       "  <tbody>\n",
       "    <tr>\n",
       "      <th>0</th>\n",
       "      <td>\\n코로나19로 중단된 상시 자기소개서첨삭 서비스를 한시적으로 온라인으로 진행하고자...</td>\n",
       "      <td>['취업']</td>\n",
       "    </tr>\n",
       "    <tr>\n",
       "      <th>1</th>\n",
       "      <td>\\n코로나19로 중단된 상시 자기소개서첨삭 서비스를 한시적으로 온라인으로 진행하고자...</td>\n",
       "      <td>['취업']</td>\n",
       "    </tr>\n",
       "    <tr>\n",
       "      <th>2</th>\n",
       "      <td>\\n코로나19로 중단된 일대일커리어상담서비스를 한시적으로 온라인으로 진행하고자 합니...</td>\n",
       "      <td>['취업']</td>\n",
       "    </tr>\n",
       "    <tr>\n",
       "      <th>3</th>\n",
       "      <td>\\n본 페이지는 '2020년 상반기 기업면접리뷰 워크숍' 신청페이지입니다.\\n\\n1...</td>\n",
       "      <td>['취업']</td>\n",
       "    </tr>\n",
       "    <tr>\n",
       "      <th>4</th>\n",
       "      <td>\\n'2020년 상반기 취업수기 공모'를 안내드립니다.\\n\\n※ 신청절차(단계별 상...</td>\n",
       "      <td>['취업']</td>\n",
       "    </tr>\n",
       "  </tbody>\n",
       "</table>\n",
       "</div>"
      ],
      "text/plain": [
       "                                         description    tags\n",
       "0  \\n코로나19로 중단된 상시 자기소개서첨삭 서비스를 한시적으로 온라인으로 진행하고자...  ['취업']\n",
       "1  \\n코로나19로 중단된 상시 자기소개서첨삭 서비스를 한시적으로 온라인으로 진행하고자...  ['취업']\n",
       "2  \\n코로나19로 중단된 일대일커리어상담서비스를 한시적으로 온라인으로 진행하고자 합니...  ['취업']\n",
       "3  \\n본 페이지는 '2020년 상반기 기업면접리뷰 워크숍' 신청페이지입니다.\\n\\n1...  ['취업']\n",
       "4  \\n'2020년 상반기 취업수기 공모'를 안내드립니다.\\n\\n※ 신청절차(단계별 상...  ['취업']"
      ]
     },
     "execution_count": 9,
     "metadata": {},
     "output_type": "execute_result"
    }
   ],
   "source": [
    "# jobs의 tag 수정하기\n",
    "def make_to_list(x):\n",
    "    x = '['+'\\''+x+'\\''+']'\n",
    "    return x\n",
    "\n",
    "jobs.tags = jobs.tags.apply(lambda x: make_to_list(x) )\n",
    "jobs.head()"
   ]
  },
  {
   "cell_type": "code",
   "execution_count": 10,
   "metadata": {},
   "outputs": [
    {
     "data": {
      "text/html": [
       "<div>\n",
       "<style scoped>\n",
       "    .dataframe tbody tr th:only-of-type {\n",
       "        vertical-align: middle;\n",
       "    }\n",
       "\n",
       "    .dataframe tbody tr th {\n",
       "        vertical-align: top;\n",
       "    }\n",
       "\n",
       "    .dataframe thead th {\n",
       "        text-align: right;\n",
       "    }\n",
       "</style>\n",
       "<table border=\"1\" class=\"dataframe\">\n",
       "  <thead>\n",
       "    <tr style=\"text-align: right;\">\n",
       "      <th></th>\n",
       "      <th>description</th>\n",
       "      <th>tags</th>\n",
       "    </tr>\n",
       "  </thead>\n",
       "  <tbody>\n",
       "    <tr>\n",
       "      <th>0</th>\n",
       "      <td>안녕하세요 한일문화연구회에서 함께할 동아리원을 모집합니다  일본문화에 관심이 있으신...</td>\n",
       "      <td>['한일문화연구회', '동아리', '언어', '사회']</td>\n",
       "    </tr>\n",
       "    <tr>\n",
       "      <th>1</th>\n",
       "      <td>2020학년도 2학기 KUISA 14기 벗 모집이 하루 남았습니다!!!!!! 202...</td>\n",
       "      <td>['KUISA', '언어', '친목']</td>\n",
       "    </tr>\n",
       "    <tr>\n",
       "      <th>2</th>\n",
       "      <td>1분 명상법!  안녕하세요! 원불교 학생회입니다.  이번에는 명상을 어떻게 하는 지...</td>\n",
       "      <td>['원불교', '동아리', '종교']</td>\n",
       "    </tr>\n",
       "    <tr>\n",
       "      <th>3</th>\n",
       "      <td>연합발표토론동아리 POP 22기 모집합니다 ! 22기 P.O.P 단원 모집!   스...</td>\n",
       "      <td>['POP', '동아리', '언어', '스터디', '연합']</td>\n",
       "    </tr>\n",
       "    <tr>\n",
       "      <th>4</th>\n",
       "      <td>D2!!!! 쿠이사 20202 벗 모집 2020년도 2학기 KUISA 14기 벗 모...</td>\n",
       "      <td>['KUISA', '언어', '친목']</td>\n",
       "    </tr>\n",
       "  </tbody>\n",
       "</table>\n",
       "</div>"
      ],
      "text/plain": [
       "                                         description  \\\n",
       "0  안녕하세요 한일문화연구회에서 함께할 동아리원을 모집합니다  일본문화에 관심이 있으신...   \n",
       "1  2020학년도 2학기 KUISA 14기 벗 모집이 하루 남았습니다!!!!!! 202...   \n",
       "2  1분 명상법!  안녕하세요! 원불교 학생회입니다.  이번에는 명상을 어떻게 하는 지...   \n",
       "3  연합발표토론동아리 POP 22기 모집합니다 ! 22기 P.O.P 단원 모집!   스...   \n",
       "4  D2!!!! 쿠이사 20202 벗 모집 2020년도 2학기 KUISA 14기 벗 모...   \n",
       "\n",
       "                                tags  \n",
       "0     ['한일문화연구회', '동아리', '언어', '사회']  \n",
       "1              ['KUISA', '언어', '친목']  \n",
       "2               ['원불교', '동아리', '종교']  \n",
       "3  ['POP', '동아리', '언어', '스터디', '연합']  \n",
       "4              ['KUISA', '언어', '친목']  "
      ]
     },
     "execution_count": 10,
     "metadata": {},
     "output_type": "execute_result"
    }
   ],
   "source": [
    "# rename column name of clubs dataframe: cleantxt to description\n",
    "\n",
    "clubs.rename(columns = {'cleantxt': 'description'}, inplace = True)\n",
    "clubs.tags = clubs.tags.apply(lambda x: x.replace(', \\'\\'',''))\n",
    "clubs.head()"
   ]
  },
  {
   "cell_type": "code",
   "execution_count": 11,
   "metadata": {},
   "outputs": [],
   "source": [
    "# clubs의 first tag delete\n",
    "# 학회/동아리명 삭제\n",
    "# tags를 list 형식으로 변형\n",
    "\n",
    "import ast\n",
    "\n",
    "\n",
    "def tostring(x):\n",
    "    return ast.literal_eval(x)\n",
    "\n",
    "kuchive.tags = kuchive.tags.apply(lambda x: tostring(x))\n",
    "contest.tags = contest.tags.apply(lambda x: tostring(x))\n",
    "activity.tags = activity.tags.apply(lambda x: tostring(x))\n",
    "jobs.tags = jobs.tags.apply(lambda x: tostring(x))\n",
    "clubs.tags = clubs.tags.apply(lambda x: tostring(x)[1:])"
   ]
  },
  {
   "cell_type": "markdown",
   "metadata": {},
   "source": [
    "## Concat all Dataframes together"
   ]
  },
  {
   "cell_type": "code",
   "execution_count": 12,
   "metadata": {},
   "outputs": [
    {
     "name": "stdout",
     "output_type": "stream",
     "text": [
      "<class 'pandas.core.frame.DataFrame'>\n",
      "Int64Index: 1012 entries, 0 to 576\n",
      "Data columns (total 2 columns):\n",
      " #   Column       Non-Null Count  Dtype \n",
      "---  ------       --------------  ----- \n",
      " 0   description  1005 non-null   object\n",
      " 1   tags         1012 non-null   object\n",
      "dtypes: object(2)\n",
      "memory usage: 23.7+ KB\n"
     ]
    }
   ],
   "source": [
    "df_all = pd.concat([kuchive, contest, activity, jobs, clubs])\n",
    "df_all.info()"
   ]
  },
  {
   "cell_type": "code",
   "execution_count": 13,
   "metadata": {},
   "outputs": [],
   "source": [
    "df_all = df_all.reset_index(drop=True)"
   ]
  },
  {
   "cell_type": "markdown",
   "metadata": {},
   "source": [
    "## DATA Preprocessing"
   ]
  },
  {
   "cell_type": "code",
   "execution_count": 14,
   "metadata": {},
   "outputs": [
    {
     "name": "stdout",
     "output_type": "stream",
     "text": [
      "전처리 전 훈련용 샘플의 개수 : 1012\n",
      "전처리 후 훈련용 샘플의 개수 : 999\n"
     ]
    }
   ],
   "source": [
    "import numpy as np\n",
    "\n",
    "print('전처리 전 훈련용 샘플의 개수 :',len(df_all))\n",
    "df_all['description'] = df_all['description'].str.replace(\"[^ㄱ-ㅎㅏ-ㅣ가-힣0-9a-zA-Z ]\",\"\") # 한글, 영어, 숫자 제외 다 제거\n",
    "df_all['description'].replace('', np.nan, inplace=True) # 공백은 Null 값으로 변경\n",
    "\n",
    "df_all = df_all.dropna(how='any') # Null 값 제거\n",
    "\n",
    "print('전처리 후 훈련용 샘플의 개수 :',len(df_all))"
   ]
  },
  {
   "cell_type": "code",
   "execution_count": 15,
   "metadata": {},
   "outputs": [],
   "source": [
    "with open('index.txt', 'w') as f:\n",
    "    for item in df_all.index:\n",
    "        f.write(\"%s\\n\" % item)"
   ]
  },
  {
   "cell_type": "code",
   "execution_count": 16,
   "metadata": {},
   "outputs": [],
   "source": [
    "from konlpy.tag import Okt\n",
    "\n",
    "okt = Okt()"
   ]
  },
  {
   "cell_type": "code",
   "execution_count": 17,
   "metadata": {},
   "outputs": [],
   "source": [
    "import ssl\n",
    "from urllib.request import urlopen\n",
    "from bs4 import BeautifulSoup\n",
    "# konlpy 사용해서 전처리\n",
    "# stopwords 없애기, 어간/어미 등으로 나누기\n",
    "\n",
    "context = ssl._create_unverified_context()\n",
    "resp = urlopen('https://www.ranks.nl/stopwords/korean',context=context)\n",
    "dom = BeautifulSoup(resp.read().decode('utf8'),'html.parser')\n",
    "tds = dom.select('.panel-body > table > tbody > tr > td')"
   ]
  },
  {
   "cell_type": "code",
   "execution_count": 18,
   "metadata": {},
   "outputs": [],
   "source": [
    "import re\n",
    "\n",
    "stopwords=[]\n",
    "\n",
    "for _ in tds:\n",
    "    stopwords+=re.findall(r'([ \\w]+)<br/>',str(_))\n",
    "    \n",
    "stopwords.append('만큼')\n",
    "stopwords.append('만 못하다')\n",
    "stopwords.append('영')\n",
    "stopwords.append('의')\n",
    "stopwords.append('하다')\n",
    "stopwords.append('가')\n",
    "stopwords.append('이')\n",
    "stopwords.append('은')\n",
    "stopwords.append('좀')\n",
    "stopwords.append('를')\n",
    "stopwords.append('들')\n",
    "stopwords.append('는')\n",
    "stopwords.append('잘')\n",
    "stopwords.append('자')\n",
    "stopwords.append('에')\n",
    "stopwords.append('와')\n",
    "stopwords.append('한')\n",
    "stopwords.append('과')\n",
    "stopwords.append('도')"
   ]
  },
  {
   "cell_type": "markdown",
   "metadata": {},
   "source": [
    "## Tags to Index"
   ]
  },
  {
   "cell_type": "code",
   "execution_count": 19,
   "metadata": {},
   "outputs": [],
   "source": [
    "X = []\n",
    "\n",
    "for sentence in df_all['description']:\n",
    "    temp_X = []\n",
    "    temp_X = okt.morphs(sentence, stem=True) # 토큰화\n",
    "    temp_X = [word for word in temp_X if not word in stopwords] # 불용어 제거\n",
    "    X.append(temp_X)"
   ]
  },
  {
   "cell_type": "code",
   "execution_count": 21,
   "metadata": {},
   "outputs": [],
   "source": [
    "# turn tags to sequences\n",
    "from collections import Counter\n",
    "\n",
    "y = df_all.tags\n",
    "\n",
    "counts_tags = Counter()\n",
    "for list_ in y:\n",
    "    counts_tags.update(list_)"
   ]
  },
  {
   "cell_type": "code",
   "execution_count": 22,
   "metadata": {},
   "outputs": [],
   "source": [
    "# map tags to sequences, so we can appy the data to the LSTM model\n",
    "\n",
    "tag2index = {}\n",
    "tagwords = []\n",
    "for tagword in counts_tags:\n",
    "    tag2index[tagword] = len(tagwords)\n",
    "    tagwords.append(tagword)"
   ]
  },
  {
   "cell_type": "code",
   "execution_count": 23,
   "metadata": {},
   "outputs": [
    {
     "data": {
      "text/plain": [
       "{'봉사': 0,\n",
       " '예술': 1,\n",
       " '사회': 2,\n",
       " 'IT': 3,\n",
       " '공모전': 4,\n",
       " '경영': 5,\n",
       " '과학': 6,\n",
       " '미술': 7,\n",
       " '대외활동': 8,\n",
       " '기타': 9,\n",
       " '운동': 10,\n",
       " '취업': 11,\n",
       " '동아리': 12,\n",
       " '언어': 13,\n",
       " '친목': 14,\n",
       " '종교': 15,\n",
       " '스터디': 16,\n",
       " '연합': 17,\n",
       " '학회': 18,\n",
       " '음악': 19}"
      ]
     },
     "execution_count": 23,
     "metadata": {},
     "output_type": "execute_result"
    }
   ],
   "source": [
    "# check the mapping dictionary\n",
    "\n",
    "tag2index"
   ]
  },
  {
   "cell_type": "code",
   "execution_count": 24,
   "metadata": {},
   "outputs": [],
   "source": [
    "# tokens(words) to sequences\n",
    "\n",
    "new_y = []\n",
    "\n",
    "for list_ in y:\n",
    "    list_ = [tag2index[item] for item in list_]\n",
    "    new_y.append(list_)\n",
    "    \n",
    " "
   ]
  },
  {
   "cell_type": "code",
   "execution_count": 25,
   "metadata": {},
   "outputs": [
    {
     "data": {
      "text/plain": [
       "array([ 0,  1,  2,  3,  4,  5,  6,  7,  8,  9, 10, 11, 12, 13, 14, 15, 16,\n",
       "       17, 18, 19])"
      ]
     },
     "execution_count": 25,
     "metadata": {},
     "output_type": "execute_result"
    }
   ],
   "source": [
    "# Multi One-Hot Encode(?) y_train data\n",
    "# ex> 0 0 0 0 0 1 1 0 0 0 0 0 형식으로 (1은 해당하는 태그, 0은 해당하지 않는 태그)\n",
    "# 참고한 사이트: https://scikit-learn.org/stable/modules/generated/sklearn.preprocessing.MultiLabelBinarizer.html\n",
    "\n",
    "\n",
    "from sklearn.preprocessing import MultiLabelBinarizer\n",
    "\n",
    "mlb = MultiLabelBinarizer()\n",
    "y = mlb.fit_transform(new_y)\n",
    "\n",
    "\n",
    "mlb.classes_\n",
    "\n",
    "# 정확하게 20개의 class를 잡은 것을 확인"
   ]
  },
  {
   "cell_type": "markdown",
   "metadata": {},
   "source": [
    "## Train - Test Split"
   ]
  },
  {
   "cell_type": "code",
   "execution_count": 26,
   "metadata": {},
   "outputs": [],
   "source": [
    "from sklearn.model_selection import train_test_split\n",
    "X_train, X_test, y_train, y_test = train_test_split(X, y, test_size=0.2)"
   ]
  },
  {
   "cell_type": "code",
   "execution_count": 27,
   "metadata": {},
   "outputs": [],
   "source": [
    "X_test_tokens = X_test.copy()\n",
    "y_test_tmp = y_test.copy()\n",
    "y_test_tags = mlb.inverse_transform(y_test_tmp)\n",
    "\n",
    "# copy lists for saving after test"
   ]
  },
  {
   "cell_type": "markdown",
   "metadata": {},
   "source": [
    "## Tokenizing Words"
   ]
  },
  {
   "cell_type": "code",
   "execution_count": 28,
   "metadata": {},
   "outputs": [
    {
     "name": "stderr",
     "output_type": "stream",
     "text": [
      "Using TensorFlow backend.\n"
     ]
    }
   ],
   "source": [
    "from keras.preprocessing.text import one_hot\n",
    "from keras.preprocessing.sequence import pad_sequences\n",
    "from keras.models import Sequential\n",
    "from keras.layers.core import Activation, Dropout, Dense\n",
    "from keras.layers import Flatten, LSTM\n",
    "from keras.layers import GlobalMaxPooling1D\n",
    "from keras.models import Model\n",
    "from keras.layers.embeddings import Embedding\n",
    "from sklearn.model_selection import train_test_split\n",
    "from keras.preprocessing.text import Tokenizer\n",
    "from keras.layers import Input\n",
    "from keras.layers.merge import Concatenate\n",
    "\n",
    "\n",
    "tokenizer = Tokenizer()\n",
    "tokenizer.fit_on_texts(X_train)"
   ]
  },
  {
   "cell_type": "code",
   "execution_count": 29,
   "metadata": {},
   "outputs": [],
   "source": [
    "# texts_to_sequences: Transforms each text in texts to a sequence of integers.\n",
    "# Only top num_words-1 most frequent words will be taken into account. \n",
    "# Only words known by the tokenizer will be taken into account.\n",
    "# 참고: https://www.tensorflow.org/api_docs/python/tf/keras/preprocessing/text/Tokenizer#texts_to_sequences\n",
    "\n",
    "X_train = tokenizer.texts_to_sequences(X_train)\n",
    "X_test = tokenizer.texts_to_sequences(X_test)"
   ]
  },
  {
   "cell_type": "code",
   "execution_count": 30,
   "metadata": {},
   "outputs": [],
   "source": [
    "vocab_size = len(tokenizer.word_index) + 1\n",
    "\n",
    "maxlen = 150\n",
    "\n",
    "X_train = pad_sequences(X_train, padding='post', maxlen=maxlen)\n",
    "X_test = pad_sequences(X_test, padding='post', maxlen=maxlen)\n",
    "\n",
    "\n",
    "# about pad_sequences: https://stackoverflow.com/questions/42943291/what-does-keras-io-preprocessing-sequence-pad-sequences-do"
   ]
  },
  {
   "cell_type": "code",
   "execution_count": 34,
   "metadata": {},
   "outputs": [],
   "source": [
    "# save the tokenizer\n",
    "import pickle\n",
    "\n",
    "with open('tokenizer.pickle', 'wb') as handle:\n",
    "    pickle.dump(tokenizer, handle, protocol=pickle.HIGHEST_PROTOCOL)"
   ]
  },
  {
   "cell_type": "markdown",
   "metadata": {},
   "source": [
    "## LSTM Model"
   ]
  },
  {
   "cell_type": "code",
   "execution_count": 35,
   "metadata": {},
   "outputs": [],
   "source": [
    "deep_inputs = Input(shape=(maxlen,))\n",
    "embedding_layer = Embedding(vocab_size, 100)(deep_inputs)\n",
    "LSTM_Layer_1 = LSTM(64)(embedding_layer)\n",
    "dense_layer_1 = Dense(20, activation='relu')(LSTM_Layer_1)\n",
    "model = Model(inputs=deep_inputs, outputs=dense_layer_1)\n",
    "\n",
    "model.compile(loss='binary_crossentropy', optimizer='adam', metrics=['acc'])"
   ]
  },
  {
   "cell_type": "code",
   "execution_count": 46,
   "metadata": {},
   "outputs": [
    {
     "name": "stdout",
     "output_type": "stream",
     "text": [
      "Model: \"model_1\"\n",
      "_________________________________________________________________\n",
      "Layer (type)                 Output Shape              Param #   \n",
      "=================================================================\n",
      "input_1 (InputLayer)         (None, 150)               0         \n",
      "_________________________________________________________________\n",
      "embedding_1 (Embedding)      (None, 150, 100)          1232000   \n",
      "_________________________________________________________________\n",
      "lstm_1 (LSTM)                (None, 64)                42240     \n",
      "_________________________________________________________________\n",
      "dense_1 (Dense)              (None, 20)                1300      \n",
      "=================================================================\n",
      "Total params: 1,275,540\n",
      "Trainable params: 1,275,540\n",
      "Non-trainable params: 0\n",
      "_________________________________________________________________\n"
     ]
    }
   ],
   "source": [
    "model.summary()"
   ]
  },
  {
   "cell_type": "markdown",
   "metadata": {},
   "source": [
    "## Model Train"
   ]
  },
  {
   "cell_type": "code",
   "execution_count": 36,
   "metadata": {
    "scrolled": true
   },
   "outputs": [
    {
     "name": "stderr",
     "output_type": "stream",
     "text": [
      "C:\\Users\\starl\\anaconda3\\envs\\tf\\lib\\site-packages\\tensorflow_core\\python\\framework\\indexed_slices.py:433: UserWarning: Converting sparse IndexedSlices to a dense Tensor of unknown shape. This may consume a large amount of memory.\n",
      "  \"Converting sparse IndexedSlices to a dense Tensor of unknown shape. \"\n"
     ]
    },
    {
     "name": "stdout",
     "output_type": "stream",
     "text": [
      "Train on 719 samples, validate on 80 samples\n",
      "Epoch 1/120\n",
      "719/719 [==============================] - 2s 3ms/step - loss: 0.7537 - acc: 0.8918 - val_loss: 0.5310 - val_acc: 0.8881\n",
      "Epoch 2/120\n",
      "719/719 [==============================] - 2s 3ms/step - loss: 0.4928 - acc: 0.8918 - val_loss: 0.4720 - val_acc: 0.8881\n",
      "Epoch 3/120\n",
      "719/719 [==============================] - 2s 3ms/step - loss: 0.4033 - acc: 0.8918 - val_loss: 0.3550 - val_acc: 0.8881\n",
      "Epoch 4/120\n",
      "719/719 [==============================] - 2s 3ms/step - loss: 0.3296 - acc: 0.8918 - val_loss: 0.3254 - val_acc: 0.8881\n",
      "Epoch 5/120\n",
      "719/719 [==============================] - 2s 3ms/step - loss: 0.3162 - acc: 0.8918 - val_loss: 0.3143 - val_acc: 0.8881\n",
      "Epoch 6/120\n",
      "719/719 [==============================] - 2s 3ms/step - loss: 0.3056 - acc: 0.8918 - val_loss: 0.3050 - val_acc: 0.8881\n",
      "Epoch 7/120\n",
      "719/719 [==============================] - 2s 3ms/step - loss: 0.2953 - acc: 0.8918 - val_loss: 0.2963 - val_acc: 0.8881\n",
      "Epoch 8/120\n",
      "719/719 [==============================] - 2s 3ms/step - loss: 0.2882 - acc: 0.8952 - val_loss: 0.2860 - val_acc: 0.8950\n",
      "Epoch 9/120\n",
      "719/719 [==============================] - 2s 3ms/step - loss: 0.2730 - acc: 0.9024 - val_loss: 0.2742 - val_acc: 0.9006\n",
      "Epoch 10/120\n",
      "719/719 [==============================] - 2s 3ms/step - loss: 0.2483 - acc: 0.9090 - val_loss: 0.2520 - val_acc: 0.9044\n",
      "Epoch 11/120\n",
      "719/719 [==============================] - 2s 3ms/step - loss: 0.2137 - acc: 0.9128 - val_loss: 0.2462 - val_acc: 0.9000\n",
      "Epoch 12/120\n",
      "719/719 [==============================] - 2s 3ms/step - loss: 0.2017 - acc: 0.9162 - val_loss: 0.2421 - val_acc: 0.9075\n",
      "Epoch 13/120\n",
      "719/719 [==============================] - 2s 3ms/step - loss: 0.1918 - acc: 0.9169 - val_loss: 0.2594 - val_acc: 0.9119\n",
      "Epoch 14/120\n",
      "719/719 [==============================] - 2s 3ms/step - loss: 0.1744 - acc: 0.9231 - val_loss: 0.2483 - val_acc: 0.9131\n",
      "Epoch 15/120\n",
      "719/719 [==============================] - 2s 3ms/step - loss: 0.1678 - acc: 0.9246 - val_loss: 0.2476 - val_acc: 0.9156\n",
      "Epoch 16/120\n",
      "719/719 [==============================] - 2s 3ms/step - loss: 0.1663 - acc: 0.9248 - val_loss: 0.2488 - val_acc: 0.9200\n",
      "Epoch 17/120\n",
      "719/719 [==============================] - 2s 3ms/step - loss: 0.1541 - acc: 0.9316 - val_loss: 0.2681 - val_acc: 0.9125\n",
      "Epoch 18/120\n",
      "719/719 [==============================] - 2s 3ms/step - loss: 0.1403 - acc: 0.9363 - val_loss: 0.2697 - val_acc: 0.9200\n",
      "Epoch 19/120\n",
      "719/719 [==============================] - 2s 3ms/step - loss: 0.1927 - acc: 0.9269 - val_loss: 0.3171 - val_acc: 0.9144\n",
      "Epoch 20/120\n",
      "719/719 [==============================] - 2s 3ms/step - loss: 0.1898 - acc: 0.9237 - val_loss: 0.3023 - val_acc: 0.9144\n",
      "Epoch 21/120\n",
      "719/719 [==============================] - 2s 3ms/step - loss: 0.1674 - acc: 0.9219 - val_loss: 0.3037 - val_acc: 0.9069\n",
      "Epoch 22/120\n",
      "719/719 [==============================] - 2s 3ms/step - loss: 0.1641 - acc: 0.9193 - val_loss: 0.2715 - val_acc: 0.9069\n",
      "Epoch 23/120\n",
      "719/719 [==============================] - 2s 3ms/step - loss: 0.1414 - acc: 0.9256 - val_loss: 0.3163 - val_acc: 0.9062\n",
      "Epoch 24/120\n",
      "719/719 [==============================] - 2s 3ms/step - loss: 0.2514 - acc: 0.9122 - val_loss: 0.3964 - val_acc: 0.9081\n",
      "Epoch 25/120\n",
      "719/719 [==============================] - 2s 3ms/step - loss: 0.2657 - acc: 0.9089 - val_loss: 0.3897 - val_acc: 0.9075\n",
      "Epoch 26/120\n",
      "719/719 [==============================] - 2s 3ms/step - loss: 0.2567 - acc: 0.9116 - val_loss: 0.3853 - val_acc: 0.9094\n",
      "Epoch 27/120\n",
      "719/719 [==============================] - 2s 3ms/step - loss: 0.2376 - acc: 0.9157 - val_loss: 0.3719 - val_acc: 0.9087\n",
      "Epoch 28/120\n",
      "719/719 [==============================] - 2s 3ms/step - loss: 0.2257 - acc: 0.9212 - val_loss: 0.3661 - val_acc: 0.9119\n",
      "Epoch 29/120\n",
      "719/719 [==============================] - 2s 3ms/step - loss: 0.2155 - acc: 0.9234 - val_loss: 0.3703 - val_acc: 0.9106\n",
      "Epoch 30/120\n",
      "719/719 [==============================] - 2s 3ms/step - loss: 0.2083 - acc: 0.9252 - val_loss: 0.3674 - val_acc: 0.9106\n",
      "Epoch 31/120\n",
      "719/719 [==============================] - 2s 3ms/step - loss: 0.2251 - acc: 0.9223 - val_loss: 0.4253 - val_acc: 0.9094\n",
      "Epoch 32/120\n",
      "719/719 [==============================] - 2s 3ms/step - loss: 0.2498 - acc: 0.9226 - val_loss: 0.3559 - val_acc: 0.9169\n",
      "Epoch 33/120\n",
      "719/719 [==============================] - 2s 3ms/step - loss: 0.2028 - acc: 0.9325 - val_loss: 0.3748 - val_acc: 0.9181\n",
      "Epoch 34/120\n",
      "719/719 [==============================] - 2s 3ms/step - loss: 0.2095 - acc: 0.9360 - val_loss: 0.3575 - val_acc: 0.9219\n",
      "Epoch 35/120\n",
      "719/719 [==============================] - 3s 4ms/step - loss: 0.2130 - acc: 0.9394 - val_loss: 0.4033 - val_acc: 0.9212\n",
      "Epoch 36/120\n",
      "719/719 [==============================] - 3s 4ms/step - loss: 0.2944 - acc: 0.9368 - val_loss: 0.4152 - val_acc: 0.9206\n",
      "Epoch 37/120\n",
      "719/719 [==============================] - 2s 3ms/step - loss: 0.2789 - acc: 0.9402 - val_loss: 0.3737 - val_acc: 0.9206\n",
      "Epoch 38/120\n",
      "719/719 [==============================] - 2s 3ms/step - loss: 0.2453 - acc: 0.9410 - val_loss: 0.3514 - val_acc: 0.9187\n",
      "Epoch 39/120\n",
      "719/719 [==============================] - 2s 3ms/step - loss: 0.2303 - acc: 0.9466 - val_loss: 0.3328 - val_acc: 0.9219\n",
      "Epoch 40/120\n",
      "719/719 [==============================] - 2s 3ms/step - loss: 0.2122 - acc: 0.9478 - val_loss: 0.3450 - val_acc: 0.9212\n",
      "Epoch 41/120\n",
      "719/719 [==============================] - 2s 3ms/step - loss: 0.2034 - acc: 0.9470 - val_loss: 0.3434 - val_acc: 0.9200\n",
      "Epoch 42/120\n",
      "719/719 [==============================] - 2s 3ms/step - loss: 0.1979 - acc: 0.9462 - val_loss: 0.3477 - val_acc: 0.9200\n",
      "Epoch 43/120\n",
      "719/719 [==============================] - 2s 3ms/step - loss: 0.1932 - acc: 0.9475 - val_loss: 0.3482 - val_acc: 0.9225\n",
      "Epoch 44/120\n",
      "719/719 [==============================] - 2s 3ms/step - loss: 0.1901 - acc: 0.9477 - val_loss: 0.3481 - val_acc: 0.9219\n",
      "Epoch 45/120\n",
      "719/719 [==============================] - 2s 3ms/step - loss: 0.1871 - acc: 0.9477 - val_loss: 0.3500 - val_acc: 0.9225\n",
      "Epoch 46/120\n",
      "719/719 [==============================] - 2s 3ms/step - loss: 0.1823 - acc: 0.9498 - val_loss: 0.3547 - val_acc: 0.9219\n",
      "Epoch 47/120\n",
      "719/719 [==============================] - 2s 3ms/step - loss: 0.1751 - acc: 0.9492 - val_loss: 0.3210 - val_acc: 0.9212\n",
      "Epoch 48/120\n",
      "719/719 [==============================] - 2s 3ms/step - loss: 0.2007 - acc: 0.9460 - val_loss: 0.3200 - val_acc: 0.9231\n",
      "Epoch 49/120\n",
      "719/719 [==============================] - 2s 3ms/step - loss: 0.1876 - acc: 0.9511 - val_loss: 0.3267 - val_acc: 0.9231\n",
      "Epoch 50/120\n",
      "719/719 [==============================] - 2s 3ms/step - loss: 0.1880 - acc: 0.9515 - val_loss: 0.3299 - val_acc: 0.9194\n",
      "Epoch 51/120\n",
      "719/719 [==============================] - 2s 3ms/step - loss: 0.1818 - acc: 0.9518 - val_loss: 0.3148 - val_acc: 0.9231\n",
      "Epoch 52/120\n",
      "719/719 [==============================] - 2s 3ms/step - loss: 0.1760 - acc: 0.9520 - val_loss: 0.3286 - val_acc: 0.9206\n",
      "Epoch 53/120\n",
      "719/719 [==============================] - 2s 3ms/step - loss: 0.1720 - acc: 0.9495 - val_loss: 0.3413 - val_acc: 0.9194\n",
      "Epoch 54/120\n",
      "719/719 [==============================] - 2s 3ms/step - loss: 0.1685 - acc: 0.9496 - val_loss: 0.3308 - val_acc: 0.9200\n",
      "Epoch 55/120\n",
      "719/719 [==============================] - 2s 3ms/step - loss: 0.1659 - acc: 0.9500 - val_loss: 0.3439 - val_acc: 0.9187\n",
      "Epoch 56/120\n",
      "719/719 [==============================] - 2s 3ms/step - loss: 0.1625 - acc: 0.9497 - val_loss: 0.3368 - val_acc: 0.9162\n",
      "Epoch 57/120\n",
      "719/719 [==============================] - 2s 3ms/step - loss: 0.1602 - acc: 0.9499 - val_loss: 0.3424 - val_acc: 0.9169\n",
      "Epoch 58/120\n",
      "719/719 [==============================] - 3s 4ms/step - loss: 0.1581 - acc: 0.9502 - val_loss: 0.3494 - val_acc: 0.9156\n",
      "Epoch 59/120\n",
      "719/719 [==============================] - 2s 3ms/step - loss: 0.1552 - acc: 0.9487 - val_loss: 0.3551 - val_acc: 0.9156\n",
      "Epoch 60/120\n",
      "719/719 [==============================] - 2s 3ms/step - loss: 0.1533 - acc: 0.9483 - val_loss: 0.3538 - val_acc: 0.9150\n",
      "Epoch 61/120\n",
      "719/719 [==============================] - 3s 4ms/step - loss: 0.1516 - acc: 0.9479 - val_loss: 0.3477 - val_acc: 0.9150\n"
     ]
    },
    {
     "name": "stdout",
     "output_type": "stream",
     "text": [
      "Epoch 62/120\n",
      "719/719 [==============================] - 2s 3ms/step - loss: 0.1502 - acc: 0.9483 - val_loss: 0.3527 - val_acc: 0.9150\n",
      "Epoch 63/120\n",
      "719/719 [==============================] - 3s 4ms/step - loss: 0.1487 - acc: 0.9480 - val_loss: 0.3512 - val_acc: 0.9163\n",
      "Epoch 64/120\n",
      "719/719 [==============================] - 2s 3ms/step - loss: 0.1473 - acc: 0.9491 - val_loss: 0.3441 - val_acc: 0.9156\n",
      "Epoch 65/120\n",
      "719/719 [==============================] - 2s 3ms/step - loss: 0.1466 - acc: 0.9498 - val_loss: 0.3455 - val_acc: 0.9175\n",
      "Epoch 66/120\n",
      "719/719 [==============================] - 2s 3ms/step - loss: 0.1455 - acc: 0.9528 - val_loss: 0.3533 - val_acc: 0.9175\n",
      "Epoch 67/120\n",
      "719/719 [==============================] - 2s 3ms/step - loss: 0.1442 - acc: 0.9534 - val_loss: 0.3662 - val_acc: 0.9162\n",
      "Epoch 68/120\n",
      "719/719 [==============================] - 2s 3ms/step - loss: 0.1428 - acc: 0.9530 - val_loss: 0.3727 - val_acc: 0.9150\n",
      "Epoch 69/120\n",
      "719/719 [==============================] - 2s 3ms/step - loss: 0.1421 - acc: 0.9523 - val_loss: 0.3708 - val_acc: 0.9175\n",
      "Epoch 70/120\n",
      "719/719 [==============================] - 2s 3ms/step - loss: 0.1419 - acc: 0.9528 - val_loss: 0.3600 - val_acc: 0.9150\n",
      "Epoch 71/120\n",
      "719/719 [==============================] - 2s 3ms/step - loss: 0.1419 - acc: 0.9524 - val_loss: 0.3541 - val_acc: 0.9169\n",
      "Epoch 72/120\n",
      "719/719 [==============================] - 2s 3ms/step - loss: 0.1419 - acc: 0.9527 - val_loss: 0.3947 - val_acc: 0.9169\n",
      "Epoch 73/120\n",
      "719/719 [==============================] - 2s 3ms/step - loss: 0.1489 - acc: 0.9513 - val_loss: 0.3615 - val_acc: 0.9200\n",
      "Epoch 74/120\n",
      "719/719 [==============================] - 2s 3ms/step - loss: 0.1511 - acc: 0.9553 - val_loss: 0.3759 - val_acc: 0.9231\n",
      "Epoch 75/120\n",
      "719/719 [==============================] - 2s 3ms/step - loss: 0.1302 - acc: 0.9576 - val_loss: 0.3400 - val_acc: 0.9194\n",
      "Epoch 76/120\n",
      "719/719 [==============================] - 2s 3ms/step - loss: 0.1184 - acc: 0.9569 - val_loss: 0.3601 - val_acc: 0.9194\n",
      "Epoch 77/120\n",
      "719/719 [==============================] - 3s 4ms/step - loss: 0.1160 - acc: 0.9581 - val_loss: 0.3580 - val_acc: 0.9194\n",
      "Epoch 78/120\n",
      "719/719 [==============================] - 3s 4ms/step - loss: 0.1134 - acc: 0.9573 - val_loss: 0.3559 - val_acc: 0.9206\n",
      "Epoch 79/120\n",
      "719/719 [==============================] - 2s 3ms/step - loss: 0.1117 - acc: 0.9580 - val_loss: 0.3558 - val_acc: 0.9194\n",
      "Epoch 80/120\n",
      "719/719 [==============================] - 2s 3ms/step - loss: 0.1104 - acc: 0.9571 - val_loss: 0.3346 - val_acc: 0.9181\n",
      "Epoch 81/120\n",
      "719/719 [==============================] - 3s 3ms/step - loss: 0.1093 - acc: 0.9575 - val_loss: 0.3810 - val_acc: 0.9200\n",
      "Epoch 82/120\n",
      "719/719 [==============================] - 3s 4ms/step - loss: 0.1090 - acc: 0.9579 - val_loss: 0.3627 - val_acc: 0.9200\n",
      "Epoch 83/120\n",
      "719/719 [==============================] - 3s 4ms/step - loss: 0.1056 - acc: 0.9583 - val_loss: 0.3363 - val_acc: 0.9219\n",
      "Epoch 84/120\n",
      "719/719 [==============================] - 2s 3ms/step - loss: 0.1066 - acc: 0.9589 - val_loss: 0.3459 - val_acc: 0.9225\n",
      "Epoch 85/120\n",
      "719/719 [==============================] - 2s 3ms/step - loss: 0.1053 - acc: 0.9595 - val_loss: 0.3281 - val_acc: 0.9231\n",
      "Epoch 86/120\n",
      "719/719 [==============================] - 2s 3ms/step - loss: 0.1047 - acc: 0.9602 - val_loss: 0.3705 - val_acc: 0.9200\n",
      "Epoch 87/120\n",
      "719/719 [==============================] - 2s 3ms/step - loss: 0.1053 - acc: 0.9598 - val_loss: 0.3365 - val_acc: 0.9225\n",
      "Epoch 88/120\n",
      "719/719 [==============================] - 2s 3ms/step - loss: 0.1034 - acc: 0.9599 - val_loss: 0.3546 - val_acc: 0.9231\n",
      "Epoch 89/120\n",
      "719/719 [==============================] - 2s 3ms/step - loss: 0.1037 - acc: 0.9608 - val_loss: 0.3642 - val_acc: 0.9231\n",
      "Epoch 90/120\n",
      "719/719 [==============================] - 2s 3ms/step - loss: 0.1004 - acc: 0.9602 - val_loss: 0.3318 - val_acc: 0.9231\n",
      "Epoch 91/120\n",
      "719/719 [==============================] - 2s 3ms/step - loss: 0.0998 - acc: 0.9604 - val_loss: 0.3701 - val_acc: 0.9219\n",
      "Epoch 92/120\n",
      "719/719 [==============================] - 2s 3ms/step - loss: 0.1036 - acc: 0.9592 - val_loss: 0.4679 - val_acc: 0.9019\n",
      "Epoch 93/120\n",
      "719/719 [==============================] - 2s 3ms/step - loss: 0.1851 - acc: 0.9540 - val_loss: 0.4010 - val_acc: 0.9206\n",
      "Epoch 94/120\n",
      "719/719 [==============================] - 2s 3ms/step - loss: 0.2571 - acc: 0.9552 - val_loss: 0.3912 - val_acc: 0.9131\n",
      "Epoch 95/120\n",
      "719/719 [==============================] - 2s 3ms/step - loss: 0.2242 - acc: 0.9478 - val_loss: 0.3525 - val_acc: 0.9137\n",
      "Epoch 96/120\n",
      "719/719 [==============================] - 2s 3ms/step - loss: 0.1896 - acc: 0.9511 - val_loss: 0.3535 - val_acc: 0.9194\n",
      "Epoch 97/120\n",
      "719/719 [==============================] - 2s 3ms/step - loss: 0.4213 - acc: 0.9234 - val_loss: 0.5521 - val_acc: 0.9062\n",
      "Epoch 98/120\n",
      "719/719 [==============================] - 2s 3ms/step - loss: 0.4599 - acc: 0.9367 - val_loss: 0.5850 - val_acc: 0.9144\n",
      "Epoch 99/120\n",
      "719/719 [==============================] - 2s 3ms/step - loss: 0.4343 - acc: 0.9427 - val_loss: 0.9426 - val_acc: 0.8700\n",
      "Epoch 100/120\n",
      "719/719 [==============================] - 2s 3ms/step - loss: 0.7329 - acc: 0.8966 - val_loss: 0.4966 - val_acc: 0.9087\n",
      "Epoch 101/120\n",
      "719/719 [==============================] - 2s 3ms/step - loss: 0.4056 - acc: 0.9382 - val_loss: 0.4048 - val_acc: 0.9144\n",
      "Epoch 102/120\n",
      "719/719 [==============================] - 2s 3ms/step - loss: 0.3354 - acc: 0.9401 - val_loss: 0.4189 - val_acc: 0.9181\n",
      "Epoch 103/120\n",
      "719/719 [==============================] - 2s 3ms/step - loss: 0.3279 - acc: 0.9392 - val_loss: 0.4368 - val_acc: 0.9187\n",
      "Epoch 104/120\n",
      "719/719 [==============================] - 2s 3ms/step - loss: 0.3050 - acc: 0.9408 - val_loss: 0.4140 - val_acc: 0.9162\n",
      "Epoch 105/120\n",
      "719/719 [==============================] - 2s 3ms/step - loss: 0.2846 - acc: 0.9413 - val_loss: 0.4068 - val_acc: 0.9231\n",
      "Epoch 106/120\n",
      "719/719 [==============================] - 2s 3ms/step - loss: 0.2750 - acc: 0.9476 - val_loss: 0.4126 - val_acc: 0.9262\n",
      "Epoch 107/120\n",
      "719/719 [==============================] - 2s 3ms/step - loss: 0.2988 - acc: 0.9482 - val_loss: 0.4157 - val_acc: 0.9244\n",
      "Epoch 108/120\n",
      "719/719 [==============================] - 2s 3ms/step - loss: 0.2732 - acc: 0.9478 - val_loss: 0.4261 - val_acc: 0.9181\n",
      "Epoch 109/120\n",
      "719/719 [==============================] - 2s 3ms/step - loss: 0.2762 - acc: 0.9392 - val_loss: 0.4645 - val_acc: 0.9125\n",
      "Epoch 110/120\n",
      "719/719 [==============================] - 2s 3ms/step - loss: 0.2715 - acc: 0.9459 - val_loss: 0.4355 - val_acc: 0.9256\n",
      "Epoch 111/120\n",
      "719/719 [==============================] - 2s 3ms/step - loss: 0.2645 - acc: 0.9538 - val_loss: 0.4253 - val_acc: 0.9269\n",
      "Epoch 112/120\n",
      "719/719 [==============================] - 2s 3ms/step - loss: 0.2616 - acc: 0.9516 - val_loss: 0.4289 - val_acc: 0.9250\n",
      "Epoch 113/120\n",
      "719/719 [==============================] - 2s 3ms/step - loss: 0.2590 - acc: 0.9505 - val_loss: 0.4277 - val_acc: 0.9244\n",
      "Epoch 114/120\n",
      "719/719 [==============================] - 2s 3ms/step - loss: 0.2571 - acc: 0.9496 - val_loss: 0.4335 - val_acc: 0.9244\n",
      "Epoch 115/120\n",
      "719/719 [==============================] - 2s 3ms/step - loss: 0.2560 - acc: 0.9498 - val_loss: 0.4385 - val_acc: 0.9250\n",
      "Epoch 116/120\n",
      "719/719 [==============================] - 2s 3ms/step - loss: 0.2548 - acc: 0.9497 - val_loss: 0.4252 - val_acc: 0.9256\n",
      "Epoch 117/120\n",
      "719/719 [==============================] - 2s 3ms/step - loss: 0.2546 - acc: 0.9497 - val_loss: 0.4286 - val_acc: 0.9275\n",
      "Epoch 118/120\n",
      "719/719 [==============================] - 2s 3ms/step - loss: 0.2536 - acc: 0.9500 - val_loss: 0.4291 - val_acc: 0.9275\n",
      "Epoch 119/120\n",
      "719/719 [==============================] - 2s 3ms/step - loss: 0.2531 - acc: 0.9494 - val_loss: 0.4277 - val_acc: 0.9269\n",
      "Epoch 120/120\n",
      "719/719 [==============================] - 2s 3ms/step - loss: 0.2521 - acc: 0.9498 - val_loss: 0.4179 - val_acc: 0.9262\n"
     ]
    }
   ],
   "source": [
    "history = model.fit(X_train, y_train, batch_size=70, epochs=120, verbose=1, validation_split=0.1)\n",
    "\n"
   ]
  },
  {
   "cell_type": "code",
   "execution_count": 37,
   "metadata": {},
   "outputs": [
    {
     "name": "stdout",
     "output_type": "stream",
     "text": [
      "200/200 [==============================] - 0s 1ms/step\n",
      "Test Score: 0.5660430574417115\n",
      "Test Accuracy: 0.9212499260902405\n"
     ]
    }
   ],
   "source": [
    "score = model.evaluate(X_test, y_test, verbose=1)\n",
    "\n",
    "print(\"Test Score:\", score[0])\n",
    "print(\"Test Accuracy:\", score[1])"
   ]
  },
  {
   "cell_type": "code",
   "execution_count": 43,
   "metadata": {},
   "outputs": [],
   "source": [
    "# save the LSTM model so it can be implemented in the Recommendation System\n",
    "\n",
    "model.save(\"models/model.json\")\n",
    "model.save(\"models/model.h5\")"
   ]
  },
  {
   "cell_type": "markdown",
   "metadata": {},
   "source": [
    "## Visualize the results"
   ]
  },
  {
   "cell_type": "code",
   "execution_count": 38,
   "metadata": {},
   "outputs": [
    {
     "data": {
      "image/png": "[encoded data removed]",
      "text/plain": [
       "<Figure size 432x288 with 1 Axes>"
      ]
     },
     "metadata": {
      "needs_background": "light"
     },
     "output_type": "display_data"
    },
    {
     "data": {
      "image/png": "[encoded data removed]",
      "text/plain": [
       "<Figure size 432x288 with 1 Axes>"
      ]
     },
     "metadata": {
      "needs_background": "light"
     },
     "output_type": "display_data"
    }
   ],
   "source": [
    "import matplotlib.pyplot as plt\n",
    "\n",
    "plt.plot(history.history['acc'])\n",
    "plt.plot(history.history['val_acc'])\n",
    "\n",
    "plt.title('model accuracy')\n",
    "plt.ylabel('accuracy')\n",
    "plt.xlabel('epoch')\n",
    "plt.legend(['train','test'], loc='upper left')\n",
    "plt.show()\n",
    "\n",
    "plt.plot(history.history['loss'])\n",
    "plt.plot(history.history['val_loss'])\n",
    "\n",
    "plt.title('model loss')\n",
    "plt.ylabel('loss')\n",
    "plt.xlabel('epoch')\n",
    "plt.legend(['train','test'], loc='upper left')\n",
    "plt.show()"
   ]
  },
  {
   "cell_type": "markdown",
   "metadata": {},
   "source": [
    "## Check the Results"
   ]
  },
  {
   "cell_type": "code",
   "execution_count": 39,
   "metadata": {},
   "outputs": [
    {
     "name": "stdout",
     "output_type": "stream",
     "text": [
      "200/200 [==============================] - 0s 965us/step\n"
     ]
    }
   ],
   "source": [
    "pred = model.predict(X_test, verbose=1)"
   ]
  },
  {
   "cell_type": "code",
   "execution_count": 40,
   "metadata": {},
   "outputs": [],
   "source": [
    "idxs = []\n",
    "idxs2 = []\n",
    "\n",
    "# 참고사이트: https://stackoverflow.com/questions/6910641/how-do-i-get-indices-of-n-maximum-values-in-a-numpy-array/38884051\n",
    "\n",
    "for i in range(len(pred)):\n",
    "    # 1st largest idx\n",
    "    preds = pred[i]\n",
    "    preds = list(preds)\n",
    "    idx = np.argmax(preds)\n",
    "    idxs.append(idx)\n",
    "    \n",
    "    # 2nd largest idx\n",
    "    flat= preds.copy()\n",
    "    flat.sort()\n",
    "    for idx2 in range(len(preds)):\n",
    "        # print(type(flat))\n",
    "        if flat[-2] == preds[idx2]:\n",
    "            idxs2.append(idx2)\n",
    "            \n",
    "# idxs: 첫번째로 큰 값\n",
    "# idxs2: 두번째로 큰 값"
   ]
  },
  {
   "cell_type": "code",
   "execution_count": 41,
   "metadata": {},
   "outputs": [],
   "source": [
    "pred_1 = pred.copy()\n",
    "\n",
    "for i in range(len(pred_1)):\n",
    "    # print(pred[i][idxs[i]])\n",
    "    for j in range(len(pred_1[i])):\n",
    "        if j!=idxs[i]:\n",
    "            pred_1[i][j] = 0\n",
    "        else:\n",
    "            pred_1[i][j] = 1\n",
    "\n",
    "            \n",
    "pred_2 = pred.copy()\n",
    "\n",
    "for i in range(len(pred_2)):\n",
    "    # print(pred[i][idxs[i]])\n",
    "    for j in range(len(pred_2[i])):\n",
    "        if j!=idxs2[i]:\n",
    "            pred_2[i][j] = 0\n",
    "        else:\n",
    "            pred_2[i][j] = 1"
   ]
  }
 ],
 "metadata": {
  "kernelspec": {
   "display_name": "tf",
   "language": "python",
   "name": "tf"
  },
  "language_info": {
   "codemirror_mode": {
    "name": "ipython",
    "version": 3
   },
   "file_extension": ".py",
   "mimetype": "text/x-python",
   "name": "python",
   "nbconvert_exporter": "python",
   "pygments_lexer": "ipython3",
   "version": "3.7.7"
  }
 },
 "nbformat": 4,
 "nbformat_minor": 4
}
